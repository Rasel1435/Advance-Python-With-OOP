{
 "cells": [
  {
   "cell_type": "code",
   "execution_count": 8,
   "metadata": {},
   "outputs": [
    {
     "name": "stdout",
     "output_type": "stream",
     "text": [
      "Nirob Ahmed\n"
     ]
    }
   ],
   "source": [
    "class Employee():\n",
    "    def __init__(self, name:str, age:int, salary:str):\n",
    "        self.name   = name;\n",
    "        self.age    = age;\n",
    "        self.salary = salary;\n",
    "\n",
    "Rasel = Employee(\"Sheikh Rasel\", 27, \"600k\")\n",
    "Nirob = Employee(\"Nirob Ahmed\", 26, \"100k\")\n",
    "print(Nirob.name)"
   ]
  }
 ],
 "metadata": {
  "interpreter": {
   "hash": "b89b5cfaba6639976dc87ff2fec6d58faec662063367e2c229c520fe71072417"
  },
  "kernelspec": {
   "display_name": "Python 3.10.1 64-bit",
   "language": "python",
   "name": "python3"
  },
  "language_info": {
   "codemirror_mode": {
    "name": "ipython",
    "version": 3
   },
   "file_extension": ".py",
   "mimetype": "text/x-python",
   "name": "python",
   "nbconvert_exporter": "python",
   "pygments_lexer": "ipython3",
   "version": "3.10.1"
  },
  "orig_nbformat": 4
 },
 "nbformat": 4,
 "nbformat_minor": 2
}
