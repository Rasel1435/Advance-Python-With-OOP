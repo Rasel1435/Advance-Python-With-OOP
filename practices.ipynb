{
 "cells": [
  {
   "cell_type": "code",
   "execution_count": 19,
   "metadata": {},
   "outputs": [
    {
     "name": "stdout",
     "output_type": "stream",
     "text": [
      "2 X 1 = 2\n",
      "2 X 2 = 4\n",
      "2 X 3 = 6\n",
      "2 X 4 = 8\n",
      "2 X 5 = 10\n",
      "2 X 6 = 12\n",
      "2 X 7 = 14\n",
      "2 X 8 = 16\n",
      "2 X 9 = 18\n",
      "2 X 10 = 20\n"
     ]
    }
   ],
   "source": [
    "num = int(input(\"Enter the number\"))\n",
    "for i in range(1, 11):\n",
    "    print(f\"{num} X {i} = {num * i}\")\n"
   ]
  },
  {
   "cell_type": "code",
   "execution_count": 12,
   "metadata": {},
   "outputs": [
    {
     "name": "stdout",
     "output_type": "stream",
     "text": [
      "['orange', 'grapes']\n",
      "['apple', 'cherry', 'orange', 'grapes']\n"
     ]
    }
   ],
   "source": [
    "L1 = [\"apple\", \"mango\", \"cherry\"]\n",
    "L2 = [\"orange\", \"mango\", \"grapes\"]\n",
    "\n",
    "L1, L2 = list(set(L1).difference(L2)), list(set(L2).difference(L1))\n",
    "print(L2)\n",
    "L1.extend(L2)\n",
    "print(L1)\n"
   ]
  },
  {
   "cell_type": "code",
   "execution_count": null,
   "metadata": {},
   "outputs": [
    {
     "name": "stdout",
     "output_type": "stream",
     "text": [
      "cherry\n"
     ]
    }
   ],
   "source": [
    "fruits = [\"apple\", \"banana\", \"cherry\"]\n",
    "for x in fruits:\n",
    "    if x == \"banana\":\n",
    "        continue\n",
    "\n",
    "print(x)\n"
   ]
  },
  {
   "cell_type": "code",
   "execution_count": 16,
   "metadata": {},
   "outputs": [
    {
     "name": "stdout",
     "output_type": "stream",
     "text": [
      "[2, 4, 6, 8]\n"
     ]
    }
   ],
   "source": [
    "list1 = [1, 3, 5, 7, 9]\n",
    "list2 = [1, 2, 3, 4, 5, 6, 7, 8, 9]\n",
    "\n",
    "list1, list2 = list(set(list2).difference(list1)), list(\n",
    "    set(list1).difference(list2))\n",
    "print(list1)\n"
   ]
  },
  {
   "cell_type": "code",
   "execution_count": 5,
   "metadata": {},
   "outputs": [
    {
     "name": "stdout",
     "output_type": "stream",
     "text": [
      "2 4 6 8 "
     ]
    }
   ],
   "source": [
    "list1 = [1, 2, 3, 4, 5, 6, 7, 8, 9]\n",
    "\n",
    "for i in list1:\n",
    "    if i % 2 == 0:\n",
    "        print(f\"{i}\", end=\" \")\n"
   ]
  },
  {
   "cell_type": "code",
   "execution_count": 4,
   "metadata": {},
   "outputs": [
    {
     "ename": "TypeError",
     "evalue": "'list' object is not callable",
     "output_type": "error",
     "traceback": [
      "\u001b[1;31m---------------------------------------------------------------------------\u001b[0m",
      "\u001b[1;31mTypeError\u001b[0m                                 Traceback (most recent call last)",
      "\u001b[1;32mc:\\Users\\User\\OneDrive\\Desktop\\test\\practices.ipynb Cell 6\u001b[0m in \u001b[0;36m<cell line: 6>\u001b[1;34m()\u001b[0m\n\u001b[0;32m      <a href='vscode-notebook-cell:/c%3A/Users/User/OneDrive/Desktop/test/practices.ipynb#X10sZmlsZQ%3D%3D?line=2'>3</a>\u001b[0m k \u001b[39m=\u001b[39m \u001b[39mint\u001b[39m(\u001b[39minput\u001b[39m(\u001b[39m\"\u001b[39m\u001b[39mEnter K Number: \u001b[39m\u001b[39m\"\u001b[39m))\n\u001b[0;32m      <a href='vscode-notebook-cell:/c%3A/Users/User/OneDrive/Desktop/test/practices.ipynb#X10sZmlsZQ%3D%3D?line=3'>4</a>\u001b[0m n \u001b[39m=\u001b[39m \u001b[39mint\u001b[39m(\u001b[39minput\u001b[39m(\u001b[39m\"\u001b[39m\u001b[39mEnter N Number: \u001b[39m\u001b[39m\"\u001b[39m))\n\u001b[1;32m----> <a href='vscode-notebook-cell:/c%3A/Users/User/OneDrive/Desktop/test/practices.ipynb#X10sZmlsZQ%3D%3D?line=5'>6</a>\u001b[0m \u001b[39mlist\u001b[39;49m(\u001b[39mrange\u001b[39;49m(\u001b[39m1\u001b[39;49m, n\u001b[39m+\u001b[39;49m\u001b[39m1\u001b[39;49m))\n",
      "\u001b[1;31mTypeError\u001b[0m: 'list' object is not callable"
     ]
    }
   ],
   "source": [
    "list = [1, 3, 5, 7, 9, 2, 4, 6, 8, 10]\n",
    "\n",
    "n = int(input(\"Enter N Number: \"))\n",
    "k = int(input(\"Enter K Number: \"))\n",
    "\n",
    "list(range(1, n+1))\n"
   ]
  },
  {
   "cell_type": "code",
   "execution_count": 14,
   "metadata": {},
   "outputs": [
    {
     "name": "stdout",
     "output_type": "stream",
     "text": [
      "1 ['Mango']\n"
     ]
    }
   ],
   "source": [
    "list1 = [\"apple\", \"banana\", \"cherry\", \"kiwi\", \"mango\", \"mango\"]\n",
    "list1.append(\"mango\")\n",
    "list1.pop()\n",
    "# list1.clear()\n",
    "del list1[-1]\n",
    "list2 = []\n",
    "\n",
    "for i in list1:\n",
    "    if (\"mango\") in i:\n",
    "        list2.append(i.capitalize())\n",
    "print(len(list2), list2)\n"
   ]
  },
  {
   "cell_type": "code",
   "execution_count": 6,
   "metadata": {},
   "outputs": [
    {
     "name": "stdout",
     "output_type": "stream",
     "text": [
      "['Nirob']['Nirob']['Nirob']['Nirob']['Nirob']['Nirob']"
     ]
    }
   ],
   "source": [
    "list1 = [\"apple\", \"banana\", \"cherry\", \"kiwi\", \"mango\", \"mango\"]\n",
    "nwelist = []\n",
    "\n",
    "for i in list1:\n",
    "    i = [\"Nirob\"]\n",
    "    print(i, end=\"\")\n"
   ]
  },
  {
   "cell_type": "code",
   "execution_count": 22,
   "metadata": {},
   "outputs": [
    {
     "name": "stdout",
     "output_type": "stream",
     "text": [
      "0\n",
      "1\n",
      "2\n",
      "3\n",
      "4\n",
      "5\n"
     ]
    }
   ],
   "source": [
    "for i in range(10):\n",
    "    if i <= 5:\n",
    "        print(i)\n"
   ]
  },
  {
   "cell_type": "code",
   "execution_count": 12,
   "metadata": {},
   "outputs": [
    {
     "name": "stdout",
     "output_type": "stream",
     "text": [
      "(1, 2, 3, 4, 5, 6, 7, 8, 9, 9)\n"
     ]
    }
   ],
   "source": [
    "list1 = {1, 2, 3, 4, 5, 6, 7, 8, 9}\n",
    "y = list(list1)\n",
    "y.insert(-1, 9)\n",
    "list1 = tuple(y)  # hhhsdhhdddhdh\n",
    "print(list1)\n"
   ]
  },
  {
   "cell_type": "code",
   "execution_count": 1,
   "metadata": {},
   "outputs": [
    {
     "name": "stdout",
     "output_type": "stream",
     "text": [
      "(1, 2, 3, 4, 5, 6)\n"
     ]
    }
   ],
   "source": [
    "a = (1, 2, 3, 44, 5, 6)\n",
    "b = list(a)\n",
    "b[3] = (4)\n",
    "a = tuple(b)\n",
    "print(a)\n"
   ]
  },
  {
   "cell_type": "code",
   "execution_count": 2,
   "metadata": {},
   "outputs": [
    {
     "name": "stdout",
     "output_type": "stream",
     "text": [
      "[8, 9, 3]\n"
     ]
    }
   ],
   "source": [
    "list1 = [8, 9, 10, 3]\n",
    "list2 = [1, 2, 3, 4, 5, 6, 7, 8, 9]\n",
    "\n",
    "list3 = set(list1)\n",
    "list4 = set(list2)\n",
    "list5 = list3.intersection(list4)\n",
    "\n",
    "list1 = list(list5)\n",
    "print(list1)\n"
   ]
  },
  {
   "cell_type": "code",
   "execution_count": 15,
   "metadata": {},
   "outputs": [],
   "source": [
    "def game():\n",
    "    return 40\n",
    "\n",
    "\n",
    "score = game()\n",
    "with open(\"write.txt\") as f:\n",
    "    write = int(f.read())\n",
    "if write < score:\n",
    "    with open(\"write.txt\", \"w\") as f:\n",
    "        f.write(str(score))\n"
   ]
  },
  {
   "cell_type": "code",
   "execution_count": 26,
   "metadata": {},
   "outputs": [],
   "source": [
    "for i in range(1, 11):\n",
    "    with open(f\"table/truthtabel_{i}.txt\", \"w\") as f:\n",
    "        for j in range(1, 11):\n",
    "            f.write(f\"{i} X {j} = {i * j}\\n\")\n"
   ]
  },
  {
   "cell_type": "code",
   "execution_count": 36,
   "metadata": {},
   "outputs": [],
   "source": [
    "words = [\"Rasel\", \"Sheikh\", \"Ahmed\"]\n",
    "\n",
    "with open(\"write.txt\") as f:\n",
    "    content = f.read()\n",
    "\n",
    "for word in words:\n",
    "    content = content.replace(word, \"Hey there\")\n",
    "    with open(\"write.txt\", \"w\") as f:\n",
    "        f.write(content)\n"
   ]
  },
  {
   "cell_type": "code",
   "execution_count": 48,
   "metadata": {},
   "outputs": [
    {
     "name": "stdout",
     "output_type": "stream",
     "text": [
      "there python there\n",
      "\n",
      "Yes Python is here line number 3\n",
      "there python there\n",
      "Yes Python is here line number 12\n"
     ]
    }
   ],
   "source": [
    "content = True\n",
    "i = 1\n",
    "with open(\"write.txt\") as f:\n",
    "    while content:\n",
    "        content = f.readline().lower()\n",
    "        if \"python\" in content:\n",
    "            # print(content)\n",
    "            print(f'Yes Python is here line number {i}')\n",
    "        i += 1\n"
   ]
  },
  {
   "cell_type": "code",
   "execution_count": 50,
   "metadata": {},
   "outputs": [],
   "source": [
    "with open(\"write.txt\") as f:\n",
    "    content = f.read()\n",
    "\n",
    "with open(\"copy.txt\", \"w\") as f:\n",
    "    f.write(content)\n"
   ]
  },
  {
   "cell_type": "markdown",
   "metadata": {},
   "source": [
    "# OOP"
   ]
  },
  {
   "cell_type": "code",
   "execution_count": 60,
   "metadata": {},
   "outputs": [
    {
     "name": "stdout",
     "output_type": "stream",
     "text": [
      "The name of the company Google Programmer name is Rasel and his product is Skype\n",
      "The name of the company Google Programmer name is Rahima and his product is GitHub\n"
     ]
    }
   ],
   "source": [
    "class Programmer:\n",
    "    company = \"Google\"\n",
    "\n",
    "    def __init__(self, name, product):\n",
    "        self.name = name\n",
    "        self.product = product\n",
    "\n",
    "    def getInFo(self):\n",
    "        print(\n",
    "            f\"The name of the company {self.company} Programmer name is {self.name} and his product is {self.product}\")\n",
    "\n",
    "\n",
    "Sheikh = Programmer(\"Rasel\", \"Skype\")\n",
    "Rahima = Programmer(\"Rahima\", \"GitHub\")\n",
    "\n",
    "Sheikh.getInFo()\n",
    "Rahima.getInFo()\n"
   ]
  },
  {
   "cell_type": "code",
   "execution_count": 67,
   "metadata": {},
   "outputs": [
    {
     "name": "stdout",
     "output_type": "stream",
     "text": [
      "The value of 9 squre is 81\n",
      "The value of 9 Root is 3.0\n",
      "The value of 9 cube is 729\n"
     ]
    }
   ],
   "source": [
    "class Calulator:\n",
    "    def __init__(self, num):\n",
    "        self.num = num\n",
    "\n",
    "    def squre(self):\n",
    "        print(f\"The value of {self.num} squre is {self.num ** 2}\")\n",
    "\n",
    "    def squreRoot(self):\n",
    "        print(f\"The value of {self.num} Root is {self.num ** 0.5}\")\n",
    "\n",
    "    def cube(self):\n",
    "        print(f\"The value of {self.num} cube is {self.num ** 3}\")\n",
    "\n",
    "\n",
    "a = Calulator(9)\n",
    "a.squre()\n",
    "a.squreRoot()\n",
    "a.cube()\n"
   ]
  },
  {
   "cell_type": "markdown",
   "metadata": {},
   "source": [
    "# Train tricket booking"
   ]
  },
  {
   "cell_type": "code",
   "execution_count": 78,
   "metadata": {},
   "outputs": [
    {
     "name": "stdout",
     "output_type": "stream",
     "text": [
      "******************\n",
      "The name of the train is Bangladesh Railway: \n",
      "The seats available in the train are 2\n",
      "******************\n",
      "The price of per Tricket are BDT.100\n",
      "Your Tricket has beenbooked! your seat number is 2\n",
      "Your Tricket has beenbooked! your seat number is 1\n",
      "Sorry this train is full! try in Jamson\n"
     ]
    }
   ],
   "source": [
    "class Train:\n",
    "    def __init__(self, name, price, seats):\n",
    "        self.name = name\n",
    "        self.price = price\n",
    "        self.seats = seats\n",
    "\n",
    "    def getInFo(self):\n",
    "        print(\"******************\")\n",
    "        print(f\"The name of the train is {self.name}\")\n",
    "        print(f\"The seats available in the train are {self.seats}\")\n",
    "        print(\"******************\")\n",
    "\n",
    "    def priceInfo(self):\n",
    "        print(f\"The price of per Tricket are BDT.{self.price}\")\n",
    "\n",
    "    def bookTricket(self):\n",
    "        if(self.seats > 0):\n",
    "            print(\n",
    "                f\"Your Tricket has beenbooked! your seat number is {self.seats}\")\n",
    "            self.seats = self.seats - 1\n",
    "        else:\n",
    "            print(\"Sorry this train is full! try in Jamson\")\n",
    "\n",
    "\n",
    "ebook = Train(f\"Bangladesh Railway: \", 100, 2)\n",
    "ebook.getInFo()\n",
    "ebook.priceInfo()\n",
    "ebook.bookTricket()\n",
    "ebook.bookTricket()\n",
    "ebook.bookTricket()\n"
   ]
  },
  {
   "cell_type": "markdown",
   "metadata": {},
   "source": [
    "# inheritance"
   ]
  },
  {
   "cell_type": "code",
   "execution_count": 87,
   "metadata": {},
   "outputs": [
    {
     "name": "stdout",
     "output_type": "stream",
     "text": [
      " I am from chiled Class\n",
      "google\n"
     ]
    }
   ],
   "source": [
    "class Main:\n",
    "    company = \"google\"\n",
    "\n",
    "    def classDetails(self):\n",
    "        print(\"I am from main Class\")\n",
    "\n",
    "\n",
    "class Chailed(Main):\n",
    "    def classDetails(self):\n",
    "        print(\" I am from chiled Class\")\n",
    "\n",
    "\n",
    "m = Main()\n",
    "# m.classDetails()\n",
    "c = Chailed()\n",
    "c.classDetails()\n",
    "print(m.company)\n"
   ]
  },
  {
   "cell_type": "code",
   "execution_count": 3,
   "metadata": {},
   "outputs": [
    {
     "name": "stdout",
     "output_type": "stream",
     "text": [
      "press q to quit\n",
      "press q to quit\n",
      "Your number 9 is greater than 6\n",
      "press q to quit\n",
      "Your number 22 is greater than 6\n",
      "press q to quit\n",
      "Your number 33 is greater than 6\n",
      "press q to quit\n",
      "press q to quit\n",
      "Your number 33 is greater than 6\n",
      "press q to quit\n",
      "Your input result in an error invalid literal for int() with base 10: ''\n",
      "press q to quit\n",
      "Your input result in an error invalid literal for int() with base 10: ''\n",
      "press q to quit\n",
      "Your number 66 is greater than 6\n",
      "press q to quit\n",
      "press q to quit\n",
      "Thanks for playing this game\n"
     ]
    }
   ],
   "source": [
    "while (True):\n",
    "    print(\"press q to quit\")\n",
    "\n",
    "    a = input('Enter your number: ')\n",
    "    if a == \"q\":\n",
    "        break\n",
    "    try:\n",
    "        a = int(a)\n",
    "        if a > 6:\n",
    "            print(f\"Your number {a} is greater than 6\")\n",
    "    except Exception as e:\n",
    "        print(f\"Your input result in an error {e}\")\n",
    "print(\"Thanks for playing this game\")\n"
   ]
  },
  {
   "cell_type": "code",
   "execution_count": 14,
   "metadata": {},
   "outputs": [
    {
     "name": "stdout",
     "output_type": "stream",
     "text": [
      "The Tarin name is: Bangladesh Rayailway\n",
      "The Tarin seats are: 3\n",
      "The price of the train tricket is: 100\n",
      "Your Seat has been booked your setas number is: 2\n",
      "Your Seat has been booked your setas number is: 1\n",
      "Your Seat has been booked your setas number is: 0\n",
      "Sorry This Train all seats are booked try another train\n"
     ]
    }
   ],
   "source": [
    "class Train:\n",
    "\n",
    "    def __init__(self, name, price, seats):\n",
    "        self.name = name\n",
    "        self.price = price\n",
    "        self.seats = seats\n",
    "\n",
    "    def trainInfo(self):\n",
    "        print(f\"The Tarin name is: {self.name}\")\n",
    "        print(f\"The Tarin seats are: {self.seats}\")\n",
    "\n",
    "    def priceInfo(self):\n",
    "        print(f\"The price of the train tricket is: {self.price}\")\n",
    "\n",
    "    def ticketBook(self):\n",
    "        if (self.seats > 0):\n",
    "            self.seats = self.seats - 1\n",
    "            print(\n",
    "                f\"Your Seat has been booked your setas number is: {self.seats}\")\n",
    "        else:\n",
    "            print(f\"Sorry This Train all seats are booked try another train\")\n",
    "\n",
    "\n",
    "ebook = Train(f\"Bangladesh Rayailway\", 100, 3)\n",
    "ebook.trainInfo()\n",
    "ebook.priceInfo()\n",
    "ebook.ticketBook()\n",
    "ebook.ticketBook()\n",
    "ebook.ticketBook()\n",
    "ebook.ticketBook()\n"
   ]
  },
  {
   "cell_type": "markdown",
   "metadata": {},
   "source": [
    "# Scraping Data"
   ]
  },
  {
   "cell_type": "code",
   "execution_count": 45,
   "metadata": {},
   "outputs": [
    {
     "data": {
      "text/plain": [
       "'2.28.1'"
      ]
     },
     "execution_count": 45,
     "metadata": {},
     "output_type": "execute_result"
    }
   ],
   "source": [
    "import requests\n",
    "from bs4 import BeautifulSoup\n",
    "\n",
    "requests.__version__\n"
   ]
  },
  {
   "cell_type": "code",
   "execution_count": 46,
   "metadata": {},
   "outputs": [],
   "source": [
    "# Informational responses(100–199)\n",
    "# Successful responses(200–299)\n",
    "# Redirection messages(300–399)\n",
    "# Client error responses(400–499)\n",
    "# Server error responses(500–599)\n"
   ]
  },
  {
   "cell_type": "code",
   "execution_count": 47,
   "metadata": {},
   "outputs": [
    {
     "data": {
      "text/plain": [
       "200"
      ]
     },
     "execution_count": 47,
     "metadata": {},
     "output_type": "execute_result"
    }
   ],
   "source": [
    "url = \"https://about.me/ahmednirob\"\n",
    "resp = requests.get(url)\n",
    "resp.status_code\n"
   ]
  },
  {
   "cell_type": "code",
   "execution_count": 1,
   "metadata": {},
   "outputs": [],
   "source": [
    "# print(resp.content)\n"
   ]
  },
  {
   "cell_type": "code",
   "execution_count": 68,
   "metadata": {},
   "outputs": [
    {
     "name": "stdout",
     "output_type": "stream",
     "text": [
      "{2, 66, 4, 6, 22}\n"
     ]
    }
   ],
   "source": [
    "list = [1, 2, 3, 4, 6, 22, 33, 66, 99, 2, 3, 4]\n",
    "\n",
    "b = {i for i in list if i % 2 == 0}\n",
    "print(b)\n"
   ]
  },
  {
   "cell_type": "code",
   "execution_count": 75,
   "metadata": {},
   "outputs": [
    {
     "name": "stdout",
     "output_type": "stream",
     "text": [
      "\n",
      "File 2.txt is not found\n",
      "\n"
     ]
    }
   ],
   "source": [
    "def readFile(filename):\n",
    "    try:\n",
    "        with open(filename, \"r\") as f:\n",
    "            print(f.read())\n",
    "    except FileNotFoundError:\n",
    "        print(f\"File {filename} is not found\")\n",
    "\n",
    "\n",
    "readFile(\"1.txt\")\n",
    "readFile(\"2.txt\")\n",
    "readFile(\"3.txt\")\n"
   ]
  },
  {
   "cell_type": "code",
   "execution_count": 3,
   "metadata": {},
   "outputs": [
    {
     "name": "stdout",
     "output_type": "stream",
     "text": [
      "Yes\n"
     ]
    }
   ],
   "source": [
    "with open(\"copy.txt\", \"r\") as f:\n",
    "    content = f.read()\n",
    "if \"python\" in content.lower():\n",
    "    print(\"Yes\")\n",
    "else:\n",
    "    print(\"No\")\n"
   ]
  },
  {
   "cell_type": "code",
   "execution_count": 21,
   "metadata": {},
   "outputs": [
    {
     "name": "stdout",
     "output_type": "stream",
     "text": [
      "Old Score: 100\n"
     ]
    }
   ],
   "source": [
    "def game():\n",
    "    return 200\n",
    "\n",
    "\n",
    "score = game()\n",
    "with open(\"1.txt\", \"r\") as f:\n",
    "    pscore = f.read()\n",
    "    print(f\"Old Score: {pscore}\")\n",
    "\n",
    "if pscore == \"\":\n",
    "    with open(\"1.txt\", \"w\") as f:\n",
    "        second = f.write(str(score))\n",
    "\n",
    "elif int(pscore) < score:\n",
    "    with open(\"1.txt\", \"w\") as f:\n",
    "        new = f.write(str(score))\n"
   ]
  },
  {
   "cell_type": "code",
   "execution_count": 46,
   "metadata": {},
   "outputs": [],
   "source": [
    "for i in range(1, 11):\n",
    "    with open(f\"table4/truthtable{i}.txt\", \"w\") as f:\n",
    "        for j in range(2, 11):\n",
    "            f.write(f\"{j} X {i} = {i * j}\\n\")\n"
   ]
  },
  {
   "cell_type": "code",
   "execution_count": 51,
   "metadata": {},
   "outputs": [],
   "source": [
    "with open(\"3.txt\", \"r\") as f:\n",
    "    content = f.read()\n",
    "for i in content:\n",
    "    with open(\"3.txt\", \"w\") as f:\n",
    "        f.write(content.replace(\"Word\", \"Sheikh\"))\n"
   ]
  },
  {
   "cell_type": "code",
   "execution_count": 53,
   "metadata": {},
   "outputs": [
    {
     "name": "stdout",
     "output_type": "stream",
     "text": [
      "Yes Python is here line number: 3\n",
      "Yes Python is here line number: 12\n"
     ]
    }
   ],
   "source": [
    "content = True\n",
    "i = 1\n",
    "with open(\"copy.txt\", \"r\") as f:\n",
    "    while content:\n",
    "        content = f.readline().lower()\n",
    "        if \"python\" in content:\n",
    "            print(f\"Yes Python is here line number: {i}\")\n",
    "        i += 1\n"
   ]
  },
  {
   "cell_type": "code",
   "execution_count": 54,
   "metadata": {},
   "outputs": [],
   "source": [
    "with open(\"copy.txt\", \"r\") as f:\n",
    "    content = f.read()\n",
    "\n",
    "for i in range(1, 10):\n",
    "    with open(f\"table3/copy{i}.txt\", \"w\") as f:\n",
    "        f.write(content)\n"
   ]
  },
  {
   "cell_type": "code",
   "execution_count": 68,
   "metadata": {},
   "outputs": [
    {
     "name": "stdout",
     "output_type": "stream",
     "text": [
      "The Employee name is Sheikh Rasel\n",
      "The Employee product is Google\n",
      "The Employee product is Google\n",
      "The Employee sallery is 10000\n",
      "\n",
      "The Employee name is Mona\n",
      "The Employee product is Google\n",
      "The Employee product is Github\n",
      "The Employee sallery is 5000\n",
      "\n"
     ]
    }
   ],
   "source": [
    "class Programs:\n",
    "    company = 'Google'\n",
    "\n",
    "    def __init__(self, name, product, sallery):\n",
    "        self.name = name\n",
    "        self.product = product\n",
    "        self.sallery = sallery\n",
    "\n",
    "    def employeeInfo(self):\n",
    "        print(f\"The Employee name is {self.name}\")\n",
    "        print(f\"The Employee product is {self.company}\")\n",
    "        print(f\"The Employee product is {self.product}\")\n",
    "        print(f\"The Employee sallery is {self.sallery}\\n\")\n",
    "\n",
    "\n",
    "rasel = Programs(\"Sheikh Rasel\", \"Google\", 10000)\n",
    "mona = Programs(\"Mona\", \"Github\", 5000)\n",
    "rasel.employeeInfo()\n",
    "mona.employeeInfo()\n"
   ]
  },
  {
   "cell_type": "code",
   "execution_count": 78,
   "metadata": {},
   "outputs": [
    {
     "name": "stdout",
     "output_type": "stream",
     "text": [
      "*******Hello there welcome to the best calculator of the world*******\n",
      "The value of 9 squre is 81\n",
      "The value of 9 rootSqure is 3.0\n",
      "The value of 9 cube is 729\n"
     ]
    }
   ],
   "source": [
    "class calculator:\n",
    "    def __init__(self, num):\n",
    "        self.number = num\n",
    "\n",
    "    def squre(self):\n",
    "        print(f\"The value of {self.number} squre is {self.number ** 2}\")\n",
    "\n",
    "    def rootSqure(self):\n",
    "        print(f\"The value of {self.number} rootSqure is {self.number ** 0.5}\")\n",
    "\n",
    "    def cube(self):\n",
    "        print(f\"The value of {self.number} cube is {self.number **3}\")\n",
    "\n",
    "    @staticmethod\n",
    "    def greet():\n",
    "        print(\"*******Hello there welcome to the best calculator of the world*******\")\n",
    "\n",
    "\n",
    "number = calculator(9)\n",
    "number.greet()\n",
    "number.squre()\n",
    "number.rootSqure()\n",
    "number.cube()\n"
   ]
  },
  {
   "cell_type": "code",
   "execution_count": 92,
   "metadata": {},
   "outputs": [
    {
     "name": "stdout",
     "output_type": "stream",
     "text": [
      "************\n",
      "The name of the train is: Bangladesh Railway\n",
      "The seats available in the train are: 3\n",
      "************\n",
      "The price of the ticket is: BDT 100\n",
      "Your ticket has been booked! Your seat number is 3\n",
      "Your ticket has been booked! Your seat number is 2\n",
      "Your ticket has been booked! Your seat number is 1\n",
      "Sorry this train is full! Kindly try in Next Train\n"
     ]
    }
   ],
   "source": [
    "class Train:\n",
    "\n",
    "    def __init__(self, name, ticket, seats):\n",
    "        self.name = name\n",
    "        self.ticket = ticket\n",
    "        self.seats = seats\n",
    "\n",
    "    def trainInfo(self):\n",
    "        print(\"************\")\n",
    "        print(f\"The name of the train is: {self.name}\")\n",
    "        print(f\"The seats available in the train are: {self.seats}\")\n",
    "        print(\"************\")\n",
    "\n",
    "    def ticketInfo(self):\n",
    "        print(f\"The price of the ticket is: BDT {self.ticket}\")\n",
    "\n",
    "    def seatsBook(self):\n",
    "        if(self.seats > 0):\n",
    "            print(f\"Your ticket has been booked! Your seat number is {self.seats}\")\n",
    "            self.seats = self.seats-1\n",
    "        else:\n",
    "            print(\"Sorry this train is full! Kindly try in Next Train\")\n",
    "\n",
    "\n",
    "ebook = Train(\"Bangladesh Railway\", 100, 3)\n",
    "ebook.trainInfo()\n",
    "ebook.ticketInfo()\n",
    "ebook.seatsBook()\n",
    "ebook.seatsBook()\n",
    "ebook.seatsBook()\n",
    "ebook.seatsBook()\n"
   ]
  },
  {
   "cell_type": "code",
   "execution_count": 104,
   "metadata": {},
   "outputs": [
    {
     "name": "stdout",
     "output_type": "stream",
     "text": [
      "1i + 3j\n",
      "1i + 9j + 7k\n"
     ]
    }
   ],
   "source": [
    "class C2dVec:\n",
    "    def __init__(self, i, j):\n",
    "        self.icap = i\n",
    "        self.jcap = j\n",
    "\n",
    "    def __str__(self):\n",
    "        return f\"{self.icap}i + {self.jcap}j\"\n",
    "\n",
    "\n",
    "class C3dVec(C2dVec):\n",
    "    def __init__(self, i, j, k):\n",
    "        super().__init__(i, j)\n",
    "        self.kcap = k\n",
    "\n",
    "    def __str__(self):\n",
    "        return f\"{self.icap}i + {self.jcap}j + {self.kcap}k\"\n",
    "\n",
    "\n",
    "v2d = C2dVec(1, 3)\n",
    "v3d = C3dVec(1, 9, 7)\n",
    "print(v2d)\n",
    "print(v3d)\n"
   ]
  },
  {
   "cell_type": "code",
   "execution_count": 105,
   "metadata": {},
   "outputs": [
    {
     "name": "stdout",
     "output_type": "stream",
     "text": [
      "The 3th element is 3\n",
      "The 5th element is 5\n",
      "The 7th element is 7\n"
     ]
    }
   ],
   "source": [
    "list1 = [1, 2, 3, 4, 5, 6, 7, 8, 9, 10]\n",
    "\n",
    "for index, i in enumerate(list1):\n",
    "    if index==2 or index == 4 or index ==6:\n",
    "        print(f\"The {index + 1}th element is {i}\")"
   ]
  },
  {
   "cell_type": "code",
   "execution_count": 31,
   "metadata": {},
   "outputs": [
    {
     "name": "stdout",
     "output_type": "stream",
     "text": [
      "VduaC57m\n"
     ]
    }
   ],
   "source": [
    "import random\n",
    "\n",
    "lower_case = \"abcdefghijklmnopqrstuvwxyz\"\n",
    "upper_case = \"ABCDEFGHIJKLMNOPQRSTUVWXYZ\"\n",
    "number = \"0123456789\"\n",
    "symble = \"!#$%^&*@\\~?|\"\n",
    "\n",
    "total = lower_case + upper_case + number + symble\n",
    "\n",
    "lenth_for = 8\n",
    "\n",
    "genarate = \"\".join(random.sample(total, lenth_for))\n",
    "print(genarate)"
   ]
  }
 ],
 "metadata": {
  "kernelspec": {
   "display_name": "Python 3.10.5 64-bit",
   "language": "python",
   "name": "python3"
  },
  "language_info": {
   "codemirror_mode": {
    "name": "ipython",
    "version": 3
   },
   "file_extension": ".py",
   "mimetype": "text/x-python",
   "name": "python",
   "nbconvert_exporter": "python",
   "pygments_lexer": "ipython3",
   "version": "3.10.5"
  },
  "orig_nbformat": 4,
  "vscode": {
   "interpreter": {
    "hash": "afb734500600fd355917ca529030176ea0ca205570884b88f2f6f7d791fd3fbe"
   }
  }
 },
 "nbformat": 4,
 "nbformat_minor": 2
}
