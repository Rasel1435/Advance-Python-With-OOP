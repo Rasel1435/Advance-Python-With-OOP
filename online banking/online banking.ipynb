{
 "cells": [
  {
   "cell_type": "markdown",
   "metadata": {},
   "source": [
    "## Online Banking"
   ]
  },
  {
   "cell_type": "code",
   "execution_count": 80,
   "metadata": {},
   "outputs": [],
   "source": [
    "# online Banking\n",
    "# Account Create, Close, Pin Change\n",
    "# Transaction Deposit, Withdrow, Transfer"
   ]
  },
  {
   "cell_type": "code",
   "execution_count": 81,
   "metadata": {},
   "outputs": [],
   "source": [
    "import re\n",
    "database = {}\n",
    "initial_acc = 10000"
   ]
  },
  {
   "cell_type": "markdown",
   "metadata": {},
   "source": [
    "## Account Create"
   ]
  },
  {
   "cell_type": "code",
   "execution_count": 82,
   "metadata": {},
   "outputs": [],
   "source": [
    "class Account:\n",
    "    bank = 'Some Bank'\n",
    "\n",
    "    def __init__(self, name: str, age: int, gender: str, ph: str, email: str):\n",
    "        self.name       = name\n",
    "        self.age        = age\n",
    "        self.gender     = gender\n",
    "        self.ph         = ph\n",
    "        self.email      = email\n",
    "        self.balance    = 0.0\n",
    "        self.is_active  = True\n",
    "        self.pin        = name.strip()[:4]+ph[-4:]\n",
    "\n",
    "\n",
    "    def validate(self):\n",
    "        namevalid = True if re.match(r'^[a-zA-Z\\s]{5,30}$', self.name) else False\n",
    "        agevalid = True if self.age > 12 and self.age < 60 else False\n",
    "        gendervalid = True if self.gender.lower() in ['male', 'female'] else False\n",
    "        phvalid = True if re.match(r'^\\+88[0-9]{11,11}$', self.ph) else False\n",
    "        emailvalid = True if re.match(r'^[a-z]+[a-z0-9_]\\w*@gmail.com$', self.email) else False\n",
    "        return all([namevalid, agevalid, gendervalid, phvalid, emailvalid])\n",
    "\n",
    "## Create PIN\n",
    "\n",
    "    def create(self):\n",
    "        global database\n",
    "        if self.validate():\n",
    "            global initial_acc \n",
    "            initial_acc += 1\n",
    "            database[initial_acc] = self\n",
    "            return initial_acc\n",
    "        else:\n",
    "            return \"Validation Unsuccessfull!\"\n",
    "\n",
    "## Account Closing    \n",
    "\n",
    "    def close(self, pin:str):\n",
    "        if self.is_active:\n",
    "            if pin == self.pin:\n",
    "                self.is_active = False\n",
    "                return 'Closed!' \n",
    "            else:\n",
    "                return \"Invalid Pin!\"\n",
    "        else:\n",
    "            return \"Already Closed!\"\n",
    "\n",
    "## Deposit\n",
    "\n",
    "    def deposit(self, amount:float):\n",
    "        if self.is_active:\n",
    "            self.balance += amount\n",
    "            return self.balance\n",
    "        else:\n",
    "            return 'Account Not Active!'\n",
    "\n",
    "##  Withdraw\n",
    "    \n",
    "    def withdraw(self, amount:float, pin:str):\n",
    "        if self.is_active:\n",
    "            if self.balance> amount and pin == self.pin:\n",
    "                self.balance -= amount\n",
    "                return self.balance\n",
    "            else:\n",
    "                return 'Insufficient Balance or Invalid PIN!'\n",
    "        else:\n",
    "            return 'Account is Not Active!'\n",
    "\n",
    "\n",
    "## Transfer   \n",
    "\n",
    "    def transfer(self,amount:float, pin:str,to_acc:int ):\n",
    "        global database\n",
    "        if self.is_active and database.get(to_acc):\n",
    "            if self.balance> amount and pin == self.pin:\n",
    "                other= database[to_acc]\n",
    "                self.balance -= amount\n",
    "                other.balance += amount\n",
    "                return self.balance\n",
    "            else:\n",
    "                return 'Insufficient Balance or Invalid PIN!'\n",
    "        else:\n",
    "            return 'Account is Not Active! or Account not Found!'"
   ]
  },
  {
   "cell_type": "code",
   "execution_count": 83,
   "metadata": {},
   "outputs": [
    {
     "data": {
      "text/plain": [
       "(True, 10001)"
      ]
     },
     "execution_count": 83,
     "metadata": {},
     "output_type": "execute_result"
    }
   ],
   "source": [
    "rasel = Account('Rasel Shiekh',24, 'Male', '+8801644425997', 'rasel@gmail.com')\n",
    "rasel.validate(), rasel.create()"
   ]
  },
  {
   "cell_type": "code",
   "execution_count": 84,
   "metadata": {},
   "outputs": [
    {
     "data": {
      "text/plain": [
       "True"
      ]
     },
     "execution_count": 84,
     "metadata": {},
     "output_type": "execute_result"
    }
   ],
   "source": [
    "rasel = database[10001]\n",
    "rasel.is_active"
   ]
  },
  {
   "cell_type": "code",
   "execution_count": 85,
   "metadata": {},
   "outputs": [
    {
     "data": {
      "text/plain": [
       "(True, 10002)"
      ]
     },
     "execution_count": 85,
     "metadata": {},
     "output_type": "execute_result"
    }
   ],
   "source": [
    "nirob = Account('Nirob Ahmed',24, 'Male', '+8801644425999', 'nirob@gmail.com')\n",
    "nirob.validate(), nirob.create()"
   ]
  },
  {
   "cell_type": "code",
   "execution_count": 86,
   "metadata": {},
   "outputs": [
    {
     "data": {
      "text/plain": [
       "True"
      ]
     },
     "execution_count": 86,
     "metadata": {},
     "output_type": "execute_result"
    }
   ],
   "source": [
    "nirob = database[10002]\n",
    "nirob.is_active"
   ]
  },
  {
   "cell_type": "code",
   "execution_count": 87,
   "metadata": {},
   "outputs": [
    {
     "data": {
      "text/plain": [
       "(0.0, 0.0)"
      ]
     },
     "execution_count": 87,
     "metadata": {},
     "output_type": "execute_result"
    }
   ],
   "source": [
    "rasel.balance, nirob.balance"
   ]
  },
  {
   "cell_type": "code",
   "execution_count": 88,
   "metadata": {},
   "outputs": [
    {
     "data": {
      "text/plain": [
       "10000.0"
      ]
     },
     "execution_count": 88,
     "metadata": {},
     "output_type": "execute_result"
    }
   ],
   "source": [
    "rasel.deposit(10000)"
   ]
  },
  {
   "cell_type": "code",
   "execution_count": 89,
   "metadata": {},
   "outputs": [
    {
     "data": {
      "text/plain": [
       "5000.0"
      ]
     },
     "execution_count": 89,
     "metadata": {},
     "output_type": "execute_result"
    }
   ],
   "source": [
    "rasel.transfer(5000, 'Rase5997', 10002)"
   ]
  },
  {
   "cell_type": "code",
   "execution_count": 90,
   "metadata": {},
   "outputs": [
    {
     "data": {
      "text/plain": [
       "(5000.0, 5000.0)"
      ]
     },
     "execution_count": 90,
     "metadata": {},
     "output_type": "execute_result"
    }
   ],
   "source": [
    "database[10001].balance, database[10002].balance"
   ]
  }
 ],
 "metadata": {
  "interpreter": {
   "hash": "b89b5cfaba6639976dc87ff2fec6d58faec662063367e2c229c520fe71072417"
  },
  "kernelspec": {
   "display_name": "Python 3.10.1 64-bit",
   "language": "python",
   "name": "python3"
  },
  "language_info": {
   "codemirror_mode": {
    "name": "ipython",
    "version": 3
   },
   "file_extension": ".py",
   "mimetype": "text/x-python",
   "name": "python",
   "nbconvert_exporter": "python",
   "pygments_lexer": "ipython3",
   "version": "3.10.1"
  },
  "orig_nbformat": 4
 },
 "nbformat": 4,
 "nbformat_minor": 2
}
