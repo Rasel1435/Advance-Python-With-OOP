{
 "cells": [
  {
   "cell_type": "code",
   "execution_count": 2,
   "metadata": {},
   "outputs": [
    {
     "name": "stdout",
     "output_type": "stream",
     "text": [
      "2 Programmer\n",
      "4 Bangladeshi\n"
     ]
    }
   ],
   "source": [
    "a = [\"Sheikh Rasel Ahmed\", \"Programmer\",\"Hard worker\",\"Bangladeshi\"]\n",
    "\n",
    "i = 0\n",
    "for item in a:\n",
    "    i += 1\n",
    "    if i%2 == 0:\n",
    "        print(i,item)"
   ]
  },
  {
   "cell_type": "markdown",
   "metadata": {},
   "source": [
    "## Enumerate"
   ]
  },
  {
   "cell_type": "code",
   "execution_count": 3,
   "metadata": {},
   "outputs": [
    {
     "name": "stdout",
     "output_type": "stream",
     "text": [
      "1 Programmer\n",
      "3 Bangladeshi\n"
     ]
    }
   ],
   "source": [
    "for i, item in enumerate(a):\n",
    "    if (i + 1) % 2 == 0:\n",
    "        print(i, item)"
   ]
  }
 ],
 "metadata": {
  "interpreter": {
   "hash": "b89b5cfaba6639976dc87ff2fec6d58faec662063367e2c229c520fe71072417"
  },
  "kernelspec": {
   "display_name": "Python 3.10.1 64-bit",
   "language": "python",
   "name": "python3"
  },
  "language_info": {
   "codemirror_mode": {
    "name": "ipython",
    "version": 3
   },
   "file_extension": ".py",
   "mimetype": "text/x-python",
   "name": "python",
   "nbconvert_exporter": "python",
   "pygments_lexer": "ipython3",
   "version": "3.10.1"
  },
  "orig_nbformat": 4
 },
 "nbformat": 4,
 "nbformat_minor": 2
}
